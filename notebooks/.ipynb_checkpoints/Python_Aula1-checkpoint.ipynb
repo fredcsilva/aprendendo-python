{
 "cells": [
  {
   "cell_type": "markdown",
   "id": "7dcebcc8",
   "metadata": {},
   "source": [
    "# Aula 1 - Aprendendo Python"
   ]
  },
  {
   "cell_type": "markdown",
   "id": "213d407b",
   "metadata": {},
   "source": [
    "* ### Sobre o Python\n",
    "---"
   ]
  },
  {
   "cell_type": "markdown",
   "id": "3e31086f",
   "metadata": {},
   "source": [
    "Python é uma linguagem de programação popular. \n",
    "<br/>\n",
    "Python é uma linguagem de programação poderosa e fácil de aprender. Possui estruturas de dados de alto nível eficientes e uma abordagem simples, mas eficaz para programação orientada a objetos. \n",
    "<br/>\n",
    "A sintaxe elegante e a tipagem dinâmica do Python, juntamente com sua natureza interpretada, o tornam uma linguagem ideal para scripts e desenvolvimento rápido de aplicativos em muitas áreas na maioria das plataformas.\n"
   ]
  },
  {
   "cell_type": "markdown",
   "id": "8107f1c3",
   "metadata": {},
   "source": [
    "* ### O que o Python pode fazer?\n",
    "---"
   ]
  },
  {
   "cell_type": "markdown",
   "id": "3fa39326",
   "metadata": {},
   "source": [
    "1. Python pode ser usado em um servidor para criar aplicativos da web.\n",
    "2. Python pode se conectar a sistemas de banco de dados. Ele também pode ler e modificar arquivos.\n",
    "3. Python pode ser usado para lidar com big data e realizar matemática complexa.\n",
    "4. Python pode ser usado para prototipagem rápida ou para desenvolvimento de software pronto para produção."
   ]
  },
  {
   "cell_type": "markdown",
   "id": "f3e04647",
   "metadata": {},
   "source": [
    "* ### Por que Python?\n",
    "---"
   ]
  },
  {
   "cell_type": "markdown",
   "id": "07ed7820",
   "metadata": {},
   "source": [
    "1. Python funciona em diferentes plataformas (Windows, Mac, Linux, Raspberry Pi, etc).\n",
    "2. Python tem uma sintaxe simples semelhante ao idioma inglês.\n",
    "3. Python tem sintaxe que permite aos desenvolvedores escrever programas com menos linhas do que algumas outras linguagens de programação.\n",
    "4. Python é executado em um sistema interpretador, o que significa que o código pode ser executado assim que for escrito. Isso significa que a prototipagem pode ser muito rápida.\n",
    "5. Python pode ser tratado de forma procedural, orientada a objetos ou funcional."
   ]
  },
  {
   "cell_type": "markdown",
   "id": "ed3d96a4",
   "metadata": {},
   "source": [
    "* ### Outras informações\n",
    "---"
   ]
  },
  {
   "cell_type": "markdown",
   "id": "080cac56",
   "metadata": {},
   "source": [
    "> Existem duas versões principais do Python, Python 2 e Python 3. Python 2 e 3 são bem diferentes. Este tutorial usa o Python 3, porque é mais semanticamente correto e oferece suporte a recursos mais recentes."
   ]
  },
  {
   "cell_type": "code",
   "execution_count": null,
   "id": "d552b331",
   "metadata": {},
   "outputs": [],
   "source": []
  }
 ],
 "metadata": {
  "kernelspec": {
   "display_name": "Python 3 (ipykernel)",
   "language": "python",
   "name": "python3"
  },
  "language_info": {
   "codemirror_mode": {
    "name": "ipython",
    "version": 3
   },
   "file_extension": ".py",
   "mimetype": "text/x-python",
   "name": "python",
   "nbconvert_exporter": "python",
   "pygments_lexer": "ipython3",
   "version": "3.8.10"
  }
 },
 "nbformat": 4,
 "nbformat_minor": 5
}
