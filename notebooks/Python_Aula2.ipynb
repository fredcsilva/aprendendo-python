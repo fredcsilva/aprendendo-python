{
 "cells": [
  {
   "cell_type": "markdown",
   "id": "e642e121",
   "metadata": {},
   "source": [
    "# Aula 1 - Aprendendo Python"
   ]
  },
  {
   "cell_type": "markdown",
   "id": "a9e892fd",
   "metadata": {},
   "source": [
    "* ### Sintaxe do Python\n",
    "---"
   ]
  },
  {
   "cell_type": "markdown",
   "id": "ebd8241d",
   "metadata": {},
   "source": [
    "- Python usa novas linhas para completar um comando, ao contrário de outras linguagens de programação que geralmente usam ponto e vírgula ou parênteses.\n",
    "- Python depende de identação, usando espaço em branco, para definir o escopo; como o escopo de loops, funções e classes. Outras linguagens de programação costumam usar colchetes para essa finalidade."
   ]
  },
  {
   "cell_type": "markdown",
   "id": "18a0e4b4",
   "metadata": {},
   "source": [
    "* ### Identação em Python\n",
    "---"
   ]
  },
  {
   "cell_type": "code",
   "execution_count": 1,
   "id": "0db10478",
   "metadata": {},
   "outputs": [
    {
     "name": "stdout",
     "output_type": "stream",
     "text": [
      "Five is greater than two!\n"
     ]
    }
   ],
   "source": [
    "# Python usa recuo para indicar um bloco de código\n",
    "if 5 > 2:\n",
    "  print(\"Five is greater than two!\")"
   ]
  },
  {
   "cell_type": "code",
   "execution_count": 2,
   "id": "a384b4f0",
   "metadata": {},
   "outputs": [
    {
     "name": "stdout",
     "output_type": "stream",
     "text": [
      "x is 1.\n"
     ]
    }
   ],
   "source": [
    "x = 1\n",
    "if x == 1:\n",
    "    # indented four spaces\n",
    "    print(\"x is 1.\")"
   ]
  },
  {
   "cell_type": "markdown",
   "id": "a523d6bc",
   "metadata": {},
   "source": [
    "* ### Comentários em Python\n",
    "---"
   ]
  },
  {
   "cell_type": "markdown",
   "id": "ffb059d7",
   "metadata": {},
   "source": [
    "- Os comentários começam com o caracter #, o que representa um comentário de linha única"
   ]
  },
  {
   "cell_type": "code",
   "execution_count": 3,
   "id": "381281f2",
   "metadata": {},
   "outputs": [
    {
     "name": "stdout",
     "output_type": "stream",
     "text": [
      "Hello, World!\n"
     ]
    }
   ],
   "source": [
    "#This is a comment.\n",
    "print(\"Hello, World!\")"
   ]
  },
  {
   "cell_type": "markdown",
   "id": "606d3e2d",
   "metadata": {},
   "source": [
    "- Os comentários de múltiplas linhas são também chamados de Docstring. Para esse tipo de comentário, basta que o seu texto esteja precedido por 3 aspas e finalizado por 3 aspas também, sejam elas duplas ou simples."
   ]
  },
  {
   "cell_type": "code",
   "execution_count": 4,
   "id": "c402acd0",
   "metadata": {},
   "outputs": [
    {
     "name": "stdout",
     "output_type": "stream",
     "text": [
      "Hello, World!\n"
     ]
    }
   ],
   "source": [
    "\"\"\"This is a \n",
    "multiline docstring.\"\"\"\n",
    "print(\"Hello, World!\")"
   ]
  },
  {
   "cell_type": "markdown",
   "id": "57d3324b",
   "metadata": {},
   "source": [
    "* ### Comandos Básicos\n",
    "---"
   ]
  },
  {
   "cell_type": "code",
   "execution_count": 5,
   "id": "40618398",
   "metadata": {},
   "outputs": [
    {
     "name": "stdout",
     "output_type": "stream",
     "text": [
      "This line will be printed.\n"
     ]
    }
   ],
   "source": [
    "# Imprimindo um texto\n",
    "print(\"This line will be printed.\")"
   ]
  },
  {
   "cell_type": "code",
   "execution_count": null,
   "id": "12759131",
   "metadata": {},
   "outputs": [],
   "source": []
  }
 ],
 "metadata": {
  "kernelspec": {
   "display_name": "Python 3 (ipykernel)",
   "language": "python",
   "name": "python3"
  },
  "language_info": {
   "codemirror_mode": {
    "name": "ipython",
    "version": 3
   },
   "file_extension": ".py",
   "mimetype": "text/x-python",
   "name": "python",
   "nbconvert_exporter": "python",
   "pygments_lexer": "ipython3",
   "version": "3.8.10"
  }
 },
 "nbformat": 4,
 "nbformat_minor": 5
}
